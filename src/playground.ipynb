{
 "cells": [
  {
   "cell_type": "code",
   "execution_count": 4,
   "id": "e288e567",
   "metadata": {},
   "outputs": [
    {
     "name": "stdout",
     "output_type": "stream",
     "text": [
      "{'user_id': '37150610', 'username': 'Victor Roman', 'wants_news': 1, 'active': 1, 'created_at': '2025-10-01 06:23:37', 'updated_at': '2025-10-01 06:23:37'}\n",
      "{'user_id': '1021945174', 'username': 'Alberto Salcedo', 'wants_news': 1, 'active': 1, 'created_at': '2025-10-01 06:23:37', 'updated_at': '2025-10-01 06:23:37'}\n",
      "{'channel_id': 1, 'channel_handle': '@JoseLuisCavatv', 'channel_name': 'José Luis Cava TV', 'youtube_channel_id': 'UCvCCLJkQpRg0NdT3zNcI08A', 'language': 'es', 'check_start_hour': 8, 'check_start_minute': 30, 'check_end_hour': 14, 'check_interval_minutes': 3, 'active': 1, 'created_at': '2025-10-01 06:23:37'}\n",
      "{'channel_id': 2, 'channel_handle': '@nacho_ic', 'channel_name': 'Nacho IC', 'youtube_channel_id': 'UCZLtNl1TyvNJ9K8OYKT43Cw', 'language': 'es', 'check_start_hour': 12, 'check_start_minute': 15, 'check_end_hour': 16, 'check_interval_minutes': 3, 'active': 1, 'created_at': '2025-10-01 06:23:37'}\n",
      "{'channel_id': 3, 'channel_handle': '@juanrallo', 'channel_name': 'Juan Rallo', 'youtube_channel_id': 'UCBLCvUUCiSqBCEc-TqZ9rGw', 'language': 'es', 'check_start_hour': 8, 'check_start_minute': 0, 'check_end_hour': 22, 'check_interval_minutes': 5, 'active': 1, 'created_at': '2025-10-01 06:23:37'}\n",
      "{'channel_id': 4, 'channel_handle': '@bravosresearchcrypto', 'channel_name': 'Bravos Crypto Research', 'youtube_channel_id': 'UC9jTdAaVgvRjhU0gl5LWoZg', 'language': 'en', 'check_start_hour': 8, 'check_start_minute': 0, 'check_end_hour': 22, 'check_interval_minutes': 5, 'active': 1, 'created_at': '2025-10-01 06:23:37'}\n",
      "{'channel_id': 5, 'channel_handle': '@bravosresearch', 'channel_name': 'Bravos Research', 'youtube_channel_id': 'UCOHxDwCcOzBaLkeTazanwcw', 'language': 'en', 'check_start_hour': 8, 'check_start_minute': 0, 'check_end_hour': 22, 'check_interval_minutes': 5, 'active': 1, 'created_at': '2025-10-01 06:23:37'}\n"
     ]
    }
   ],
   "source": [
    "import sqlite3\n",
    "\n",
    "conn = sqlite3.connect('video_summary.db')\n",
    "conn.row_factory = sqlite3.Row\n",
    "cursor = conn.cursor()\n",
    "\n",
    "# Query users\n",
    "cursor.execute(\"SELECT * FROM users\")\n",
    "for row in cursor.fetchall():\n",
    "    print(dict(row))\n",
    "\n",
    "# Query channels with subscribers\n",
    "cursor.execute(\"\"\"\n",
    "    SELECT * FROM channels\n",
    "\"\"\")\n",
    "for row in cursor.fetchall():\n",
    "    print(dict(row))\n",
    "\n",
    "conn.close()"
   ]
  },
  {
   "cell_type": "code",
   "execution_count": null,
   "id": "4259c575",
   "metadata": {},
   "outputs": [],
   "source": []
  }
 ],
 "metadata": {
  "kernelspec": {
   "display_name": "video-summary-bot",
   "language": "python",
   "name": "python3"
  },
  "language_info": {
   "codemirror_mode": {
    "name": "ipython",
    "version": 3
   },
   "file_extension": ".py",
   "mimetype": "text/x-python",
   "name": "python",
   "nbconvert_exporter": "python",
   "pygments_lexer": "ipython3",
   "version": "3.9.18"
  }
 },
 "nbformat": 4,
 "nbformat_minor": 5
}
